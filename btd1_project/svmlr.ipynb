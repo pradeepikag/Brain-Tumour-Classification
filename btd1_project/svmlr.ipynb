{
 "cells": [
  {
   "cell_type": "code",
   "execution_count": 2,
   "metadata": {},
   "outputs": [],
   "source": [
    "#importing the modules\n",
    "#import numpy n-dimensional array\n",
    "import numpy as np\n",
    "#import sklearn python machine learning  modules\n",
    "import sklearn as sk\n",
    "#import pandas dataframes\n",
    "import pandas as pd\n",
    "import unittest\n",
    "#import matplotlib for plotting\n",
    "import matplotlib.pyplot as plt\n",
    "#import datasets  and linear_model from sklearn module\n",
    "from sklearn import datasets, linear_model\n",
    "#import Polynomial features from sklearn module\n",
    "from sklearn.preprocessing import PolynomialFeatures\n",
    "#import train_test_split data classification\n",
    "from sklearn.model_selection import train_test_split\n",
    "#import ConfusionMatrix from pandas_ml\n",
    "from sklearn.metrics import confusion_matrix"
   ]
  },
  {
   "cell_type": "code",
   "execution_count": 3,
   "metadata": {},
   "outputs": [],
   "source": [
    "#dataframe creation\n",
    "dataframe = pd.read_csv('C:/Users/prade/Desktop/btd1_project/BTD.csv', low_memory=False) #C:\\Users\\prade\\Desktop\n"
   ]
  },
  {
   "cell_type": "code",
   "execution_count": 4,
   "metadata": {},
   "outputs": [],
   "source": [
    "#Dataframes for  X all the columns except class and y class columns\n",
    "X = dataframe.iloc[:,:-1]\n",
    "Y = dataframe['Tumor_type']\n",
    "X_train, X_test, Y_train, Y_test = train_test_split(X, Y, \n",
    "test_size=1/3, random_state=0)\n"
   ]
  },
  {
   "cell_type": "code",
   "execution_count": 5,
   "metadata": {},
   "outputs": [
    {
     "name": "stdout",
     "output_type": "stream",
     "text": [
      "Train and test sizes, respectively: 12 12 | 6 6\n"
     ]
    }
   ],
   "source": [
    "#Calculating the data\n",
    "print(\"Train and test sizes, respectively:\", len(X_train), len(Y_train), \"|\", len(X_test), len(Y_test))\n"
   ]
  },
  {
   "cell_type": "code",
   "execution_count": 6,
   "metadata": {},
   "outputs": [],
   "source": [
    "#logistic regression\n",
    "logistic = linear_model.LogisticRegression(C=1e5)\n"
   ]
  },
  {
   "cell_type": "code",
   "execution_count": 7,
   "metadata": {},
   "outputs": [
    {
     "data": {
      "text/plain": [
       "LogisticRegression(C=100000.0, class_weight=None, dual=False,\n",
       "          fit_intercept=True, intercept_scaling=1, max_iter=100,\n",
       "          multi_class='ovr', n_jobs=1, penalty='l2', random_state=None,\n",
       "          solver='liblinear', tol=0.0001, verbose=0, warm_start=False)"
      ]
     },
     "execution_count": 7,
     "metadata": {},
     "output_type": "execute_result"
    }
   ],
   "source": [
    "logistic"
   ]
  },
  {
   "cell_type": "code",
   "execution_count": 8,
   "metadata": {},
   "outputs": [
    {
     "data": {
      "text/plain": [
       "LogisticRegression(C=100000.0, class_weight=None, dual=False,\n",
       "          fit_intercept=True, intercept_scaling=1, max_iter=100,\n",
       "          multi_class='ovr', n_jobs=1, penalty='l2', random_state=None,\n",
       "          solver='liblinear', tol=0.0001, verbose=0, warm_start=False)"
      ]
     },
     "execution_count": 8,
     "metadata": {},
     "output_type": "execute_result"
    }
   ],
   "source": [
    "logistic.fit(X_train, Y_train)\n"
   ]
  },
  {
   "cell_type": "code",
   "execution_count": 9,
   "metadata": {},
   "outputs": [
    {
     "name": "stdout",
     "output_type": "stream",
     "text": [
      "Using logistic Regresion Algorithm Acuracy Score:  0.5\n"
     ]
    }
   ],
   "source": [
    "print(\"Using logistic Regresion Algorithm Acuracy Score: \", logistic.score(X_test, Y_test))"
   ]
  },
  {
   "cell_type": "code",
   "execution_count": 10,
   "metadata": {},
   "outputs": [],
   "source": [
    "Y_predicted = np.array(logistic.predict(X_test))\n",
    "Y_right = np.array(Y_test)\n"
   ]
  },
  {
   "cell_type": "code",
   "execution_count": 11,
   "metadata": {},
   "outputs": [
    {
     "data": {
      "text/plain": [
       "array([0, 0, 1, 0, 0, 0], dtype=int64)"
      ]
     },
     "execution_count": 11,
     "metadata": {},
     "output_type": "execute_result"
    }
   ],
   "source": [
    "Y_predicted\n"
   ]
  },
  {
   "cell_type": "code",
   "execution_count": 12,
   "metadata": {},
   "outputs": [
    {
     "data": {
      "text/plain": [
       "1     0\n",
       "6     0\n",
       "8     0\n",
       "10    1\n",
       "14    1\n",
       "4     0\n",
       "Name: Tumor_type, dtype: int64"
      ]
     },
     "execution_count": 12,
     "metadata": {},
     "output_type": "execute_result"
    }
   ],
   "source": [
    "Y_test"
   ]
  },
  {
   "cell_type": "code",
   "execution_count": 13,
   "metadata": {},
   "outputs": [
    {
     "data": {
      "text/plain": [
       "array([[3, 1],\n",
       "       [2, 0]], dtype=int64)"
      ]
     },
     "execution_count": 13,
     "metadata": {},
     "output_type": "execute_result"
    }
   ],
   "source": [
    "from sklearn.metrics import confusion_matrix\n",
    "confusion_matrix = confusion_matrix(Y_right, Y_predicted)\n",
    "confusion_matrix"
   ]
  },
  {
   "cell_type": "code",
   "execution_count": 14,
   "metadata": {},
   "outputs": [
    {
     "name": "stdout",
     "output_type": "stream",
     "text": [
      "Confusion matrix: [[3 1]\n",
      " [2 0]]\n"
     ]
    }
   ],
   "source": [
    "print(\"Confusion matrix:\",confusion_matrix)"
   ]
  },
  {
   "cell_type": "code",
   "execution_count": 15,
   "metadata": {},
   "outputs": [
    {
     "name": "stdout",
     "output_type": "stream",
     "text": [
      "Acuuracy for Logistic Model is :0.5\n"
     ]
    }
   ],
   "source": [
    "from sklearn.metrics import accuracy_score\n",
    "accu_for_logistic=accuracy_score(Y_right,Y_predicted)\n",
    "print(\"Acuuracy for Logistic Model is :%s\"%accu_for_logistic)\n"
   ]
  },
  {
   "cell_type": "code",
   "execution_count": 16,
   "metadata": {},
   "outputs": [],
   "source": [
    "from sklearn import svm\n",
    "\n",
    "svm_clf=svm.SVC()\n",
    "svm1=svm.SVC(kernel='sigmoid',random_state = 0)"
   ]
  },
  {
   "cell_type": "code",
   "execution_count": 17,
   "metadata": {
    "scrolled": true
   },
   "outputs": [
    {
     "data": {
      "text/plain": [
       "SVC(C=1.0, cache_size=200, class_weight=None, coef0=0.0,\n",
       "  decision_function_shape='ovr', degree=3, gamma='auto', kernel='sigmoid',\n",
       "  max_iter=-1, probability=False, random_state=0, shrinking=True,\n",
       "  tol=0.001, verbose=False)"
      ]
     },
     "execution_count": 17,
     "metadata": {},
     "output_type": "execute_result"
    }
   ],
   "source": [
    "svm_clf.fit(X_train,Y_train)\n",
    "svm1.fit(X_train,Y_train)\n"
   ]
  },
  {
   "cell_type": "code",
   "execution_count": 18,
   "metadata": {},
   "outputs": [],
   "source": [
    "svm_pred=svm_clf.predict(X_test)\n",
    "svm1_pred=svm1.predict(X_test)"
   ]
  },
  {
   "cell_type": "code",
   "execution_count": 19,
   "metadata": {},
   "outputs": [
    {
     "data": {
      "text/plain": [
       "array([0, 0, 0, 1, 1, 0], dtype=int64)"
      ]
     },
     "execution_count": 19,
     "metadata": {},
     "output_type": "execute_result"
    }
   ],
   "source": [
    "Y_right\n"
   ]
  },
  {
   "cell_type": "code",
   "execution_count": 20,
   "metadata": {},
   "outputs": [
    {
     "data": {
      "text/plain": [
       "array([0, 1, 0, 0, 1, 1], dtype=int64)"
      ]
     },
     "execution_count": 20,
     "metadata": {},
     "output_type": "execute_result"
    }
   ],
   "source": [
    "svm_pred\n"
   ]
  },
  {
   "cell_type": "code",
   "execution_count": 21,
   "metadata": {},
   "outputs": [
    {
     "data": {
      "text/plain": [
       "array([[2, 2],\n",
       "       [1, 1]], dtype=int64)"
      ]
     },
     "execution_count": 21,
     "metadata": {},
     "output_type": "execute_result"
    }
   ],
   "source": [
    "from sklearn.metrics import confusion_matrix\n",
    "confusion_matrix(Y_right,svm_pred)\n"
   ]
  },
  {
   "cell_type": "code",
   "execution_count": 22,
   "metadata": {},
   "outputs": [
    {
     "name": "stdout",
     "output_type": "stream",
     "text": [
      "Acuuracy for SVM Model is :0.5\n"
     ]
    }
   ],
   "source": [
    "acc_for_svc=accuracy_score(Y_right,svm_pred)\n",
    "print(\"Acuuracy for SVM Model is :%s\"%acc_for_svc)\n"
   ]
  },
  {
   "cell_type": "code",
   "execution_count": 26,
   "metadata": {},
   "outputs": [
    {
     "name": "stdout",
     "output_type": "stream",
     "text": [
      "Acuuracy for SVM kernel Model is :0.6666666666666666\n"
     ]
    }
   ],
   "source": [
    "acc_for_svc=accuracy_score(Y_right,svm1_pred)\n",
    "print(\"Acuuracy for SVM kernel Model is :%s\"%acc_for_svc)\n"
   ]
  },
  {
   "cell_type": "code",
   "execution_count": 27,
   "metadata": {},
   "outputs": [
    {
     "data": {
      "text/html": [
       "<div>\n",
       "<style scoped>\n",
       "    .dataframe tbody tr th:only-of-type {\n",
       "        vertical-align: middle;\n",
       "    }\n",
       "\n",
       "    .dataframe tbody tr th {\n",
       "        vertical-align: top;\n",
       "    }\n",
       "\n",
       "    .dataframe thead th {\n",
       "        text-align: right;\n",
       "    }\n",
       "</style>\n",
       "<table border=\"1\" class=\"dataframe\">\n",
       "  <thead>\n",
       "    <tr style=\"text-align: right;\">\n",
       "      <th></th>\n",
       "      <th>Feature1</th>\n",
       "      <th>Feature2</th>\n",
       "      <th>Feature3</th>\n",
       "      <th>Feature4</th>\n",
       "      <th>Feature5</th>\n",
       "      <th>Feature6</th>\n",
       "      <th>Feature7</th>\n",
       "      <th>Feature8</th>\n",
       "      <th>Feature9</th>\n",
       "      <th>Feature10</th>\n",
       "      <th>Feature11</th>\n",
       "      <th>Feature12</th>\n",
       "      <th>Feature13</th>\n",
       "    </tr>\n",
       "  </thead>\n",
       "  <tbody>\n",
       "    <tr>\n",
       "      <th>2</th>\n",
       "      <td>0.2272</td>\n",
       "      <td>0.1326</td>\n",
       "      <td>0.7439</td>\n",
       "      <td>0.9290</td>\n",
       "      <td>0.00430</td>\n",
       "      <td>0.0897</td>\n",
       "      <td>3.6046</td>\n",
       "      <td>0.0898</td>\n",
       "      <td>0.0080</td>\n",
       "      <td>0.9406</td>\n",
       "      <td>5.9972</td>\n",
       "      <td>0.5218</td>\n",
       "      <td>0.9700</td>\n",
       "    </tr>\n",
       "    <tr>\n",
       "      <th>16</th>\n",
       "      <td>0.2925</td>\n",
       "      <td>0.1584</td>\n",
       "      <td>0.7588</td>\n",
       "      <td>0.9330</td>\n",
       "      <td>0.00570</td>\n",
       "      <td>0.0896</td>\n",
       "      <td>2.6622</td>\n",
       "      <td>0.0898</td>\n",
       "      <td>0.0080</td>\n",
       "      <td>0.9551</td>\n",
       "      <td>13.0402</td>\n",
       "      <td>1.3124</td>\n",
       "      <td>1.2778</td>\n",
       "    </tr>\n",
       "    <tr>\n",
       "      <th>17</th>\n",
       "      <td>0.2425</td>\n",
       "      <td>0.1130</td>\n",
       "      <td>0.7700</td>\n",
       "      <td>0.9400</td>\n",
       "      <td>0.00340</td>\n",
       "      <td>0.0896</td>\n",
       "      <td>3.0000</td>\n",
       "      <td>0.0898</td>\n",
       "      <td>0.0080</td>\n",
       "      <td>0.9300</td>\n",
       "      <td>7.5890</td>\n",
       "      <td>0.7800</td>\n",
       "      <td>0.4000</td>\n",
       "    </tr>\n",
       "    <tr>\n",
       "      <th>9</th>\n",
       "      <td>0.2689</td>\n",
       "      <td>0.0977</td>\n",
       "      <td>0.7861</td>\n",
       "      <td>0.9410</td>\n",
       "      <td>0.00068</td>\n",
       "      <td>0.0898</td>\n",
       "      <td>2.7465</td>\n",
       "      <td>0.0898</td>\n",
       "      <td>0.0081</td>\n",
       "      <td>0.7186</td>\n",
       "      <td>10.9703</td>\n",
       "      <td>0.7365</td>\n",
       "      <td>0.1190</td>\n",
       "    </tr>\n",
       "    <tr>\n",
       "      <th>7</th>\n",
       "      <td>0.2925</td>\n",
       "      <td>0.1584</td>\n",
       "      <td>0.7588</td>\n",
       "      <td>0.9330</td>\n",
       "      <td>0.00570</td>\n",
       "      <td>0.0896</td>\n",
       "      <td>2.6622</td>\n",
       "      <td>0.0898</td>\n",
       "      <td>0.0080</td>\n",
       "      <td>0.9551</td>\n",
       "      <td>13.0402</td>\n",
       "      <td>1.3124</td>\n",
       "      <td>1.2778</td>\n",
       "    </tr>\n",
       "    <tr>\n",
       "      <th>13</th>\n",
       "      <td>0.2272</td>\n",
       "      <td>0.0908</td>\n",
       "      <td>0.7522</td>\n",
       "      <td>0.9308</td>\n",
       "      <td>0.00340</td>\n",
       "      <td>0.0897</td>\n",
       "      <td>3.6783</td>\n",
       "      <td>0.0898</td>\n",
       "      <td>0.0080</td>\n",
       "      <td>0.9270</td>\n",
       "      <td>5.5966</td>\n",
       "      <td>0.4004</td>\n",
       "      <td>1.0469</td>\n",
       "    </tr>\n",
       "    <tr>\n",
       "      <th>11</th>\n",
       "      <td>0.2272</td>\n",
       "      <td>0.1326</td>\n",
       "      <td>0.7439</td>\n",
       "      <td>0.9290</td>\n",
       "      <td>0.00430</td>\n",
       "      <td>0.0897</td>\n",
       "      <td>3.6046</td>\n",
       "      <td>0.0898</td>\n",
       "      <td>0.0080</td>\n",
       "      <td>0.9406</td>\n",
       "      <td>5.9972</td>\n",
       "      <td>0.5218</td>\n",
       "      <td>0.3700</td>\n",
       "    </tr>\n",
       "    <tr>\n",
       "      <th>3</th>\n",
       "      <td>0.2442</td>\n",
       "      <td>0.1007</td>\n",
       "      <td>0.7409</td>\n",
       "      <td>0.9263</td>\n",
       "      <td>0.00320</td>\n",
       "      <td>0.0898</td>\n",
       "      <td>3.5797</td>\n",
       "      <td>0.0898</td>\n",
       "      <td>0.0080</td>\n",
       "      <td>0.9234</td>\n",
       "      <td>6.2735</td>\n",
       "      <td>0.6332</td>\n",
       "      <td>0.5257</td>\n",
       "    </tr>\n",
       "    <tr>\n",
       "      <th>0</th>\n",
       "      <td>0.2333</td>\n",
       "      <td>0.1284</td>\n",
       "      <td>0.7491</td>\n",
       "      <td>0.9308</td>\n",
       "      <td>0.00190</td>\n",
       "      <td>0.0898</td>\n",
       "      <td>2.6632</td>\n",
       "      <td>0.0898</td>\n",
       "      <td>0.0081</td>\n",
       "      <td>0.8778</td>\n",
       "      <td>7.2707</td>\n",
       "      <td>0.6117</td>\n",
       "      <td>-0.0366</td>\n",
       "    </tr>\n",
       "    <tr>\n",
       "      <th>5</th>\n",
       "      <td>0.2558</td>\n",
       "      <td>0.0895</td>\n",
       "      <td>0.7557</td>\n",
       "      <td>0.9314</td>\n",
       "      <td>0.00250</td>\n",
       "      <td>0.0898</td>\n",
       "      <td>3.0756</td>\n",
       "      <td>0.0898</td>\n",
       "      <td>0.0081</td>\n",
       "      <td>0.9040</td>\n",
       "      <td>7.7971</td>\n",
       "      <td>0.5774</td>\n",
       "      <td>-0.2601</td>\n",
       "    </tr>\n",
       "    <tr>\n",
       "      <th>15</th>\n",
       "      <td>0.2439</td>\n",
       "      <td>0.1072</td>\n",
       "      <td>0.7310</td>\n",
       "      <td>0.9246</td>\n",
       "      <td>0.00460</td>\n",
       "      <td>0.0897</td>\n",
       "      <td>3.5484</td>\n",
       "      <td>0.0898</td>\n",
       "      <td>0.0081</td>\n",
       "      <td>0.9446</td>\n",
       "      <td>6.5235</td>\n",
       "      <td>0.6204</td>\n",
       "      <td>0.5030</td>\n",
       "    </tr>\n",
       "    <tr>\n",
       "      <th>12</th>\n",
       "      <td>0.2750</td>\n",
       "      <td>0.1180</td>\n",
       "      <td>0.7688</td>\n",
       "      <td>0.9346</td>\n",
       "      <td>0.00460</td>\n",
       "      <td>0.0897</td>\n",
       "      <td>3.0290</td>\n",
       "      <td>0.0898</td>\n",
       "      <td>0.0081</td>\n",
       "      <td>0.9453</td>\n",
       "      <td>13.1839</td>\n",
       "      <td>1.0085</td>\n",
       "      <td>0.2863</td>\n",
       "    </tr>\n",
       "  </tbody>\n",
       "</table>\n",
       "</div>"
      ],
      "text/plain": [
       "    Feature1  Feature2  Feature3  Feature4  Feature5  Feature6  Feature7  \\\n",
       "2     0.2272    0.1326    0.7439    0.9290   0.00430    0.0897    3.6046   \n",
       "16    0.2925    0.1584    0.7588    0.9330   0.00570    0.0896    2.6622   \n",
       "17    0.2425    0.1130    0.7700    0.9400   0.00340    0.0896    3.0000   \n",
       "9     0.2689    0.0977    0.7861    0.9410   0.00068    0.0898    2.7465   \n",
       "7     0.2925    0.1584    0.7588    0.9330   0.00570    0.0896    2.6622   \n",
       "13    0.2272    0.0908    0.7522    0.9308   0.00340    0.0897    3.6783   \n",
       "11    0.2272    0.1326    0.7439    0.9290   0.00430    0.0897    3.6046   \n",
       "3     0.2442    0.1007    0.7409    0.9263   0.00320    0.0898    3.5797   \n",
       "0     0.2333    0.1284    0.7491    0.9308   0.00190    0.0898    2.6632   \n",
       "5     0.2558    0.0895    0.7557    0.9314   0.00250    0.0898    3.0756   \n",
       "15    0.2439    0.1072    0.7310    0.9246   0.00460    0.0897    3.5484   \n",
       "12    0.2750    0.1180    0.7688    0.9346   0.00460    0.0897    3.0290   \n",
       "\n",
       "    Feature8  Feature9  Feature10  Feature11  Feature12  Feature13  \n",
       "2     0.0898    0.0080     0.9406     5.9972     0.5218     0.9700  \n",
       "16    0.0898    0.0080     0.9551    13.0402     1.3124     1.2778  \n",
       "17    0.0898    0.0080     0.9300     7.5890     0.7800     0.4000  \n",
       "9     0.0898    0.0081     0.7186    10.9703     0.7365     0.1190  \n",
       "7     0.0898    0.0080     0.9551    13.0402     1.3124     1.2778  \n",
       "13    0.0898    0.0080     0.9270     5.5966     0.4004     1.0469  \n",
       "11    0.0898    0.0080     0.9406     5.9972     0.5218     0.3700  \n",
       "3     0.0898    0.0080     0.9234     6.2735     0.6332     0.5257  \n",
       "0     0.0898    0.0081     0.8778     7.2707     0.6117    -0.0366  \n",
       "5     0.0898    0.0081     0.9040     7.7971     0.5774    -0.2601  \n",
       "15    0.0898    0.0081     0.9446     6.5235     0.6204     0.5030  \n",
       "12    0.0898    0.0081     0.9453    13.1839     1.0085     0.2863  "
      ]
     },
     "execution_count": 27,
     "metadata": {},
     "output_type": "execute_result"
    }
   ],
   "source": [
    "X_train"
   ]
  },
  {
   "cell_type": "code",
   "execution_count": 28,
   "metadata": {},
   "outputs": [
    {
     "data": {
      "text/html": [
       "<div>\n",
       "<style scoped>\n",
       "    .dataframe tbody tr th:only-of-type {\n",
       "        vertical-align: middle;\n",
       "    }\n",
       "\n",
       "    .dataframe tbody tr th {\n",
       "        vertical-align: top;\n",
       "    }\n",
       "\n",
       "    .dataframe thead th {\n",
       "        text-align: right;\n",
       "    }\n",
       "</style>\n",
       "<table border=\"1\" class=\"dataframe\">\n",
       "  <thead>\n",
       "    <tr style=\"text-align: right;\">\n",
       "      <th></th>\n",
       "      <th>Feature1</th>\n",
       "      <th>Feature2</th>\n",
       "      <th>Feature3</th>\n",
       "      <th>Feature4</th>\n",
       "      <th>Feature5</th>\n",
       "      <th>Feature6</th>\n",
       "      <th>Feature7</th>\n",
       "      <th>Feature8</th>\n",
       "      <th>Feature9</th>\n",
       "      <th>Feature10</th>\n",
       "      <th>Feature11</th>\n",
       "      <th>Feature12</th>\n",
       "      <th>Feature13</th>\n",
       "    </tr>\n",
       "  </thead>\n",
       "  <tbody>\n",
       "    <tr>\n",
       "      <th>1</th>\n",
       "      <td>0.2717</td>\n",
       "      <td>0.0931</td>\n",
       "      <td>0.7686</td>\n",
       "      <td>0.9308</td>\n",
       "      <td>0.0024</td>\n",
       "      <td>0.0898</td>\n",
       "      <td>3.26980</td>\n",
       "      <td>0.0898</td>\n",
       "      <td>0.0081</td>\n",
       "      <td>0.8974</td>\n",
       "      <td>7.9567</td>\n",
       "      <td>0.8862</td>\n",
       "      <td>0.4926</td>\n",
       "    </tr>\n",
       "    <tr>\n",
       "      <th>6</th>\n",
       "      <td>0.2155</td>\n",
       "      <td>0.0951</td>\n",
       "      <td>0.7378</td>\n",
       "      <td>0.9274</td>\n",
       "      <td>0.0028</td>\n",
       "      <td>0.0898</td>\n",
       "      <td>3.62830</td>\n",
       "      <td>0.0898</td>\n",
       "      <td>0.0080</td>\n",
       "      <td>0.9132</td>\n",
       "      <td>5.3238</td>\n",
       "      <td>0.3230</td>\n",
       "      <td>1.0419</td>\n",
       "    </tr>\n",
       "    <tr>\n",
       "      <th>8</th>\n",
       "      <td>0.2341</td>\n",
       "      <td>0.1321</td>\n",
       "      <td>0.7530</td>\n",
       "      <td>0.9315</td>\n",
       "      <td>0.0035</td>\n",
       "      <td>0.0897</td>\n",
       "      <td>3.15620</td>\n",
       "      <td>0.0898</td>\n",
       "      <td>0.0080</td>\n",
       "      <td>0.9291</td>\n",
       "      <td>7.4848</td>\n",
       "      <td>0.5212</td>\n",
       "      <td>-1.0392</td>\n",
       "    </tr>\n",
       "    <tr>\n",
       "      <th>10</th>\n",
       "      <td>0.2433</td>\n",
       "      <td>0.1294</td>\n",
       "      <td>0.7606</td>\n",
       "      <td>0.9344</td>\n",
       "      <td>0.0034</td>\n",
       "      <td>0.0897</td>\n",
       "      <td>2.99490</td>\n",
       "      <td>0.0898</td>\n",
       "      <td>0.0081</td>\n",
       "      <td>0.9270</td>\n",
       "      <td>7.6801</td>\n",
       "      <td>0.6318</td>\n",
       "      <td>0.3816</td>\n",
       "    </tr>\n",
       "    <tr>\n",
       "      <th>14</th>\n",
       "      <td>0.2517</td>\n",
       "      <td>0.0734</td>\n",
       "      <td>0.7402</td>\n",
       "      <td>0.9267</td>\n",
       "      <td>0.0035</td>\n",
       "      <td>0.0897</td>\n",
       "      <td>3.52390</td>\n",
       "      <td>0.0898</td>\n",
       "      <td>0.0080</td>\n",
       "      <td>0.9284</td>\n",
       "      <td>6.5220</td>\n",
       "      <td>0.4979</td>\n",
       "      <td>1.6524</td>\n",
       "    </tr>\n",
       "    <tr>\n",
       "      <th>4</th>\n",
       "      <td>0.2033</td>\n",
       "      <td>0.1126</td>\n",
       "      <td>0.7554</td>\n",
       "      <td>0.9331</td>\n",
       "      <td>0.0019</td>\n",
       "      <td>0.0898</td>\n",
       "      <td>0.06549</td>\n",
       "      <td>0.0898</td>\n",
       "      <td>0.0080</td>\n",
       "      <td>0.8783</td>\n",
       "      <td>5.8117</td>\n",
       "      <td>0.3408</td>\n",
       "      <td>1.0010</td>\n",
       "    </tr>\n",
       "  </tbody>\n",
       "</table>\n",
       "</div>"
      ],
      "text/plain": [
       "    Feature1  Feature2  Feature3  Feature4  Feature5  Feature6  Feature7  \\\n",
       "1     0.2717    0.0931    0.7686    0.9308    0.0024    0.0898   3.26980   \n",
       "6     0.2155    0.0951    0.7378    0.9274    0.0028    0.0898   3.62830   \n",
       "8     0.2341    0.1321    0.7530    0.9315    0.0035    0.0897   3.15620   \n",
       "10    0.2433    0.1294    0.7606    0.9344    0.0034    0.0897   2.99490   \n",
       "14    0.2517    0.0734    0.7402    0.9267    0.0035    0.0897   3.52390   \n",
       "4     0.2033    0.1126    0.7554    0.9331    0.0019    0.0898   0.06549   \n",
       "\n",
       "    Feature8  Feature9  Feature10  Feature11  Feature12  Feature13  \n",
       "1     0.0898    0.0081     0.8974     7.9567     0.8862     0.4926  \n",
       "6     0.0898    0.0080     0.9132     5.3238     0.3230     1.0419  \n",
       "8     0.0898    0.0080     0.9291     7.4848     0.5212    -1.0392  \n",
       "10    0.0898    0.0081     0.9270     7.6801     0.6318     0.3816  \n",
       "14    0.0898    0.0080     0.9284     6.5220     0.4979     1.6524  \n",
       "4     0.0898    0.0080     0.8783     5.8117     0.3408     1.0010  "
      ]
     },
     "execution_count": 28,
     "metadata": {},
     "output_type": "execute_result"
    }
   ],
   "source": [
    "X_test"
   ]
  },
  {
   "cell_type": "code",
   "execution_count": null,
   "metadata": {},
   "outputs": [],
   "source": []
  },
  {
   "cell_type": "code",
   "execution_count": null,
   "metadata": {},
   "outputs": [],
   "source": []
  },
  {
   "cell_type": "code",
   "execution_count": null,
   "metadata": {},
   "outputs": [],
   "source": []
  },
  {
   "cell_type": "code",
   "execution_count": null,
   "metadata": {},
   "outputs": [],
   "source": []
  },
  {
   "cell_type": "code",
   "execution_count": null,
   "metadata": {},
   "outputs": [],
   "source": []
  },
  {
   "cell_type": "code",
   "execution_count": null,
   "metadata": {},
   "outputs": [],
   "source": []
  },
  {
   "cell_type": "code",
   "execution_count": 77,
   "metadata": {},
   "outputs": [
    {
     "data": {
      "text/html": [
       "<div>\n",
       "<style scoped>\n",
       "    .dataframe tbody tr th:only-of-type {\n",
       "        vertical-align: middle;\n",
       "    }\n",
       "\n",
       "    .dataframe tbody tr th {\n",
       "        vertical-align: top;\n",
       "    }\n",
       "\n",
       "    .dataframe thead th {\n",
       "        text-align: right;\n",
       "    }\n",
       "</style>\n",
       "<table border=\"1\" class=\"dataframe\">\n",
       "  <thead>\n",
       "    <tr style=\"text-align: right;\">\n",
       "      <th></th>\n",
       "      <th>Feature1</th>\n",
       "      <th>Feature2</th>\n",
       "      <th>Feature3</th>\n",
       "      <th>Feature4</th>\n",
       "      <th>Feature5</th>\n",
       "      <th>Feature6</th>\n",
       "      <th>Feature7</th>\n",
       "      <th>Feature8</th>\n",
       "      <th>Feature9</th>\n",
       "      <th>Feature10</th>\n",
       "      <th>Feature11</th>\n",
       "      <th>Feature12</th>\n",
       "      <th>Feature13</th>\n",
       "    </tr>\n",
       "  </thead>\n",
       "  <tbody>\n",
       "    <tr>\n",
       "      <th>2</th>\n",
       "      <td>0.2272</td>\n",
       "      <td>0.1326</td>\n",
       "      <td>0.7439</td>\n",
       "      <td>0.9290</td>\n",
       "      <td>0.00430</td>\n",
       "      <td>0.0897</td>\n",
       "      <td>3.6046</td>\n",
       "      <td>0.0898</td>\n",
       "      <td>0.0080</td>\n",
       "      <td>0.9406</td>\n",
       "      <td>5.9972</td>\n",
       "      <td>0.5218</td>\n",
       "      <td>0.9700</td>\n",
       "    </tr>\n",
       "    <tr>\n",
       "      <th>16</th>\n",
       "      <td>0.2925</td>\n",
       "      <td>0.1584</td>\n",
       "      <td>0.7588</td>\n",
       "      <td>0.9330</td>\n",
       "      <td>0.00570</td>\n",
       "      <td>0.0896</td>\n",
       "      <td>2.6622</td>\n",
       "      <td>0.0898</td>\n",
       "      <td>0.0080</td>\n",
       "      <td>0.9551</td>\n",
       "      <td>13.0402</td>\n",
       "      <td>1.3124</td>\n",
       "      <td>1.2778</td>\n",
       "    </tr>\n",
       "    <tr>\n",
       "      <th>17</th>\n",
       "      <td>0.2425</td>\n",
       "      <td>0.1130</td>\n",
       "      <td>0.7700</td>\n",
       "      <td>0.9400</td>\n",
       "      <td>0.00340</td>\n",
       "      <td>0.0896</td>\n",
       "      <td>3.0000</td>\n",
       "      <td>0.0898</td>\n",
       "      <td>0.0080</td>\n",
       "      <td>0.9300</td>\n",
       "      <td>7.5890</td>\n",
       "      <td>0.7800</td>\n",
       "      <td>0.4000</td>\n",
       "    </tr>\n",
       "    <tr>\n",
       "      <th>9</th>\n",
       "      <td>0.2689</td>\n",
       "      <td>0.0977</td>\n",
       "      <td>0.7861</td>\n",
       "      <td>0.9410</td>\n",
       "      <td>0.00068</td>\n",
       "      <td>0.0898</td>\n",
       "      <td>2.7465</td>\n",
       "      <td>0.0898</td>\n",
       "      <td>0.0081</td>\n",
       "      <td>0.7186</td>\n",
       "      <td>10.9703</td>\n",
       "      <td>0.7365</td>\n",
       "      <td>0.1190</td>\n",
       "    </tr>\n",
       "    <tr>\n",
       "      <th>7</th>\n",
       "      <td>0.2925</td>\n",
       "      <td>0.1584</td>\n",
       "      <td>0.7588</td>\n",
       "      <td>0.9330</td>\n",
       "      <td>0.00570</td>\n",
       "      <td>0.0896</td>\n",
       "      <td>2.6622</td>\n",
       "      <td>0.0898</td>\n",
       "      <td>0.0080</td>\n",
       "      <td>0.9551</td>\n",
       "      <td>13.0402</td>\n",
       "      <td>1.3124</td>\n",
       "      <td>1.2778</td>\n",
       "    </tr>\n",
       "    <tr>\n",
       "      <th>13</th>\n",
       "      <td>0.2272</td>\n",
       "      <td>0.0908</td>\n",
       "      <td>0.7522</td>\n",
       "      <td>0.9308</td>\n",
       "      <td>0.00340</td>\n",
       "      <td>0.0897</td>\n",
       "      <td>3.6783</td>\n",
       "      <td>0.0898</td>\n",
       "      <td>0.0080</td>\n",
       "      <td>0.9270</td>\n",
       "      <td>5.5966</td>\n",
       "      <td>0.4004</td>\n",
       "      <td>1.0469</td>\n",
       "    </tr>\n",
       "    <tr>\n",
       "      <th>11</th>\n",
       "      <td>0.2272</td>\n",
       "      <td>0.1326</td>\n",
       "      <td>0.7439</td>\n",
       "      <td>0.9290</td>\n",
       "      <td>0.00430</td>\n",
       "      <td>0.0897</td>\n",
       "      <td>3.6046</td>\n",
       "      <td>0.0898</td>\n",
       "      <td>0.0080</td>\n",
       "      <td>0.9406</td>\n",
       "      <td>5.9972</td>\n",
       "      <td>0.5218</td>\n",
       "      <td>0.3700</td>\n",
       "    </tr>\n",
       "    <tr>\n",
       "      <th>3</th>\n",
       "      <td>0.2442</td>\n",
       "      <td>0.1007</td>\n",
       "      <td>0.7409</td>\n",
       "      <td>0.9263</td>\n",
       "      <td>0.00320</td>\n",
       "      <td>0.0898</td>\n",
       "      <td>3.5797</td>\n",
       "      <td>0.0898</td>\n",
       "      <td>0.0080</td>\n",
       "      <td>0.9234</td>\n",
       "      <td>6.2735</td>\n",
       "      <td>0.6332</td>\n",
       "      <td>0.5257</td>\n",
       "    </tr>\n",
       "    <tr>\n",
       "      <th>0</th>\n",
       "      <td>0.2333</td>\n",
       "      <td>0.1284</td>\n",
       "      <td>0.7491</td>\n",
       "      <td>0.9308</td>\n",
       "      <td>0.00190</td>\n",
       "      <td>0.0898</td>\n",
       "      <td>2.6632</td>\n",
       "      <td>0.0898</td>\n",
       "      <td>0.0081</td>\n",
       "      <td>0.8778</td>\n",
       "      <td>7.2707</td>\n",
       "      <td>0.6117</td>\n",
       "      <td>-0.0366</td>\n",
       "    </tr>\n",
       "    <tr>\n",
       "      <th>5</th>\n",
       "      <td>0.2558</td>\n",
       "      <td>0.0895</td>\n",
       "      <td>0.7557</td>\n",
       "      <td>0.9314</td>\n",
       "      <td>0.00250</td>\n",
       "      <td>0.0898</td>\n",
       "      <td>3.0756</td>\n",
       "      <td>0.0898</td>\n",
       "      <td>0.0081</td>\n",
       "      <td>0.9040</td>\n",
       "      <td>7.7971</td>\n",
       "      <td>0.5774</td>\n",
       "      <td>-0.2601</td>\n",
       "    </tr>\n",
       "    <tr>\n",
       "      <th>15</th>\n",
       "      <td>0.2439</td>\n",
       "      <td>0.1072</td>\n",
       "      <td>0.7310</td>\n",
       "      <td>0.9246</td>\n",
       "      <td>0.00460</td>\n",
       "      <td>0.0897</td>\n",
       "      <td>3.5484</td>\n",
       "      <td>0.0898</td>\n",
       "      <td>0.0081</td>\n",
       "      <td>0.9446</td>\n",
       "      <td>6.5235</td>\n",
       "      <td>0.6204</td>\n",
       "      <td>0.5030</td>\n",
       "    </tr>\n",
       "    <tr>\n",
       "      <th>12</th>\n",
       "      <td>0.2750</td>\n",
       "      <td>0.1180</td>\n",
       "      <td>0.7688</td>\n",
       "      <td>0.9346</td>\n",
       "      <td>0.00460</td>\n",
       "      <td>0.0897</td>\n",
       "      <td>3.0290</td>\n",
       "      <td>0.0898</td>\n",
       "      <td>0.0081</td>\n",
       "      <td>0.9453</td>\n",
       "      <td>13.1839</td>\n",
       "      <td>1.0085</td>\n",
       "      <td>0.2863</td>\n",
       "    </tr>\n",
       "  </tbody>\n",
       "</table>\n",
       "</div>"
      ],
      "text/plain": [
       "    Feature1  Feature2  Feature3  Feature4  Feature5  Feature6  Feature7  \\\n",
       "2     0.2272    0.1326    0.7439    0.9290   0.00430    0.0897    3.6046   \n",
       "16    0.2925    0.1584    0.7588    0.9330   0.00570    0.0896    2.6622   \n",
       "17    0.2425    0.1130    0.7700    0.9400   0.00340    0.0896    3.0000   \n",
       "9     0.2689    0.0977    0.7861    0.9410   0.00068    0.0898    2.7465   \n",
       "7     0.2925    0.1584    0.7588    0.9330   0.00570    0.0896    2.6622   \n",
       "13    0.2272    0.0908    0.7522    0.9308   0.00340    0.0897    3.6783   \n",
       "11    0.2272    0.1326    0.7439    0.9290   0.00430    0.0897    3.6046   \n",
       "3     0.2442    0.1007    0.7409    0.9263   0.00320    0.0898    3.5797   \n",
       "0     0.2333    0.1284    0.7491    0.9308   0.00190    0.0898    2.6632   \n",
       "5     0.2558    0.0895    0.7557    0.9314   0.00250    0.0898    3.0756   \n",
       "15    0.2439    0.1072    0.7310    0.9246   0.00460    0.0897    3.5484   \n",
       "12    0.2750    0.1180    0.7688    0.9346   0.00460    0.0897    3.0290   \n",
       "\n",
       "    Feature8  Feature9  Feature10  Feature11  Feature12  Feature13  \n",
       "2     0.0898    0.0080     0.9406     5.9972     0.5218     0.9700  \n",
       "16    0.0898    0.0080     0.9551    13.0402     1.3124     1.2778  \n",
       "17    0.0898    0.0080     0.9300     7.5890     0.7800     0.4000  \n",
       "9     0.0898    0.0081     0.7186    10.9703     0.7365     0.1190  \n",
       "7     0.0898    0.0080     0.9551    13.0402     1.3124     1.2778  \n",
       "13    0.0898    0.0080     0.9270     5.5966     0.4004     1.0469  \n",
       "11    0.0898    0.0080     0.9406     5.9972     0.5218     0.3700  \n",
       "3     0.0898    0.0080     0.9234     6.2735     0.6332     0.5257  \n",
       "0     0.0898    0.0081     0.8778     7.2707     0.6117    -0.0366  \n",
       "5     0.0898    0.0081     0.9040     7.7971     0.5774    -0.2601  \n",
       "15    0.0898    0.0081     0.9446     6.5235     0.6204     0.5030  \n",
       "12    0.0898    0.0081     0.9453    13.1839     1.0085     0.2863  "
      ]
     },
     "execution_count": 77,
     "metadata": {},
     "output_type": "execute_result"
    }
   ],
   "source": []
  },
  {
   "cell_type": "code",
   "execution_count": 78,
   "metadata": {},
   "outputs": [
    {
     "data": {
      "text/html": [
       "<div>\n",
       "<style scoped>\n",
       "    .dataframe tbody tr th:only-of-type {\n",
       "        vertical-align: middle;\n",
       "    }\n",
       "\n",
       "    .dataframe tbody tr th {\n",
       "        vertical-align: top;\n",
       "    }\n",
       "\n",
       "    .dataframe thead th {\n",
       "        text-align: right;\n",
       "    }\n",
       "</style>\n",
       "<table border=\"1\" class=\"dataframe\">\n",
       "  <thead>\n",
       "    <tr style=\"text-align: right;\">\n",
       "      <th></th>\n",
       "      <th>Feature1</th>\n",
       "      <th>Feature2</th>\n",
       "      <th>Feature3</th>\n",
       "      <th>Feature4</th>\n",
       "      <th>Feature5</th>\n",
       "      <th>Feature6</th>\n",
       "      <th>Feature7</th>\n",
       "      <th>Feature8</th>\n",
       "      <th>Feature9</th>\n",
       "      <th>Feature10</th>\n",
       "      <th>Feature11</th>\n",
       "      <th>Feature12</th>\n",
       "      <th>Feature13</th>\n",
       "    </tr>\n",
       "  </thead>\n",
       "  <tbody>\n",
       "    <tr>\n",
       "      <th>1</th>\n",
       "      <td>0.2717</td>\n",
       "      <td>0.0931</td>\n",
       "      <td>0.7686</td>\n",
       "      <td>0.9308</td>\n",
       "      <td>0.0024</td>\n",
       "      <td>0.0898</td>\n",
       "      <td>3.26980</td>\n",
       "      <td>0.0898</td>\n",
       "      <td>0.0081</td>\n",
       "      <td>0.8974</td>\n",
       "      <td>7.9567</td>\n",
       "      <td>0.8862</td>\n",
       "      <td>0.4926</td>\n",
       "    </tr>\n",
       "    <tr>\n",
       "      <th>6</th>\n",
       "      <td>0.2155</td>\n",
       "      <td>0.0951</td>\n",
       "      <td>0.7378</td>\n",
       "      <td>0.9274</td>\n",
       "      <td>0.0028</td>\n",
       "      <td>0.0898</td>\n",
       "      <td>3.62830</td>\n",
       "      <td>0.0898</td>\n",
       "      <td>0.0080</td>\n",
       "      <td>0.9132</td>\n",
       "      <td>5.3238</td>\n",
       "      <td>0.3230</td>\n",
       "      <td>1.0419</td>\n",
       "    </tr>\n",
       "    <tr>\n",
       "      <th>8</th>\n",
       "      <td>0.2341</td>\n",
       "      <td>0.1321</td>\n",
       "      <td>0.7530</td>\n",
       "      <td>0.9315</td>\n",
       "      <td>0.0035</td>\n",
       "      <td>0.0897</td>\n",
       "      <td>3.15620</td>\n",
       "      <td>0.0898</td>\n",
       "      <td>0.0080</td>\n",
       "      <td>0.9291</td>\n",
       "      <td>7.4848</td>\n",
       "      <td>0.5212</td>\n",
       "      <td>-1.0392</td>\n",
       "    </tr>\n",
       "    <tr>\n",
       "      <th>10</th>\n",
       "      <td>0.2433</td>\n",
       "      <td>0.1294</td>\n",
       "      <td>0.7606</td>\n",
       "      <td>0.9344</td>\n",
       "      <td>0.0034</td>\n",
       "      <td>0.0897</td>\n",
       "      <td>2.99490</td>\n",
       "      <td>0.0898</td>\n",
       "      <td>0.0081</td>\n",
       "      <td>0.9270</td>\n",
       "      <td>7.6801</td>\n",
       "      <td>0.6318</td>\n",
       "      <td>0.3816</td>\n",
       "    </tr>\n",
       "    <tr>\n",
       "      <th>14</th>\n",
       "      <td>0.2517</td>\n",
       "      <td>0.0734</td>\n",
       "      <td>0.7402</td>\n",
       "      <td>0.9267</td>\n",
       "      <td>0.0035</td>\n",
       "      <td>0.0897</td>\n",
       "      <td>3.52390</td>\n",
       "      <td>0.0898</td>\n",
       "      <td>0.0080</td>\n",
       "      <td>0.9284</td>\n",
       "      <td>6.5220</td>\n",
       "      <td>0.4979</td>\n",
       "      <td>1.6524</td>\n",
       "    </tr>\n",
       "    <tr>\n",
       "      <th>4</th>\n",
       "      <td>0.2033</td>\n",
       "      <td>0.1126</td>\n",
       "      <td>0.7554</td>\n",
       "      <td>0.9331</td>\n",
       "      <td>0.0019</td>\n",
       "      <td>0.0898</td>\n",
       "      <td>0.06549</td>\n",
       "      <td>0.0898</td>\n",
       "      <td>0.0080</td>\n",
       "      <td>0.8783</td>\n",
       "      <td>5.8117</td>\n",
       "      <td>0.3408</td>\n",
       "      <td>1.0010</td>\n",
       "    </tr>\n",
       "  </tbody>\n",
       "</table>\n",
       "</div>"
      ],
      "text/plain": [
       "    Feature1  Feature2  Feature3  Feature4  Feature5  Feature6  Feature7  \\\n",
       "1     0.2717    0.0931    0.7686    0.9308    0.0024    0.0898   3.26980   \n",
       "6     0.2155    0.0951    0.7378    0.9274    0.0028    0.0898   3.62830   \n",
       "8     0.2341    0.1321    0.7530    0.9315    0.0035    0.0897   3.15620   \n",
       "10    0.2433    0.1294    0.7606    0.9344    0.0034    0.0897   2.99490   \n",
       "14    0.2517    0.0734    0.7402    0.9267    0.0035    0.0897   3.52390   \n",
       "4     0.2033    0.1126    0.7554    0.9331    0.0019    0.0898   0.06549   \n",
       "\n",
       "    Feature8  Feature9  Feature10  Feature11  Feature12  Feature13  \n",
       "1     0.0898    0.0081     0.8974     7.9567     0.8862     0.4926  \n",
       "6     0.0898    0.0080     0.9132     5.3238     0.3230     1.0419  \n",
       "8     0.0898    0.0080     0.9291     7.4848     0.5212    -1.0392  \n",
       "10    0.0898    0.0081     0.9270     7.6801     0.6318     0.3816  \n",
       "14    0.0898    0.0080     0.9284     6.5220     0.4979     1.6524  \n",
       "4     0.0898    0.0080     0.8783     5.8117     0.3408     1.0010  "
      ]
     },
     "execution_count": 78,
     "metadata": {},
     "output_type": "execute_result"
    }
   ],
   "source": []
  },
  {
   "cell_type": "code",
   "execution_count": null,
   "metadata": {},
   "outputs": [],
   "source": []
  },
  {
   "cell_type": "code",
   "execution_count": null,
   "metadata": {},
   "outputs": [],
   "source": []
  },
  {
   "cell_type": "code",
   "execution_count": null,
   "metadata": {},
   "outputs": [],
   "source": []
  },
  {
   "cell_type": "code",
   "execution_count": null,
   "metadata": {},
   "outputs": [],
   "source": []
  },
  {
   "cell_type": "code",
   "execution_count": null,
   "metadata": {},
   "outputs": [],
   "source": []
  },
  {
   "cell_type": "code",
   "execution_count": null,
   "metadata": {},
   "outputs": [],
   "source": []
  }
 ],
 "metadata": {
  "kernelspec": {
   "display_name": "Python 3",
   "language": "python",
   "name": "python3"
  },
  "language_info": {
   "codemirror_mode": {
    "name": "ipython",
    "version": 3
   },
   "file_extension": ".py",
   "mimetype": "text/x-python",
   "name": "python",
   "nbconvert_exporter": "python",
   "pygments_lexer": "ipython3",
   "version": "3.6.4"
  }
 },
 "nbformat": 4,
 "nbformat_minor": 2
}
