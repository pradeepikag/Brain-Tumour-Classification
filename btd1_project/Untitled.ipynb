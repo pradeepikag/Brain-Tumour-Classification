{
 "cells": [
  {
   "cell_type": "code",
   "execution_count": 5,
   "metadata": {},
   "outputs": [
    {
     "ename": "TabError",
     "evalue": "inconsistent use of tabs and spaces in indentation (<ipython-input-5-bbcc6614e242>, line 9)",
     "output_type": "error",
     "traceback": [
      "\u001b[1;36m  File \u001b[1;32m\"<ipython-input-5-bbcc6614e242>\"\u001b[1;36m, line \u001b[1;32m9\u001b[0m\n\u001b[1;33m    for value in column:\u001b[0m\n\u001b[1;37m                        ^\u001b[0m\n\u001b[1;31mTabError\u001b[0m\u001b[1;31m:\u001b[0m inconsistent use of tabs and spaces in indentation\n"
     ]
    }
   ],
   "source": [
    "from PIL import Image\n",
    "import numpy\n",
    "img=Image.open(\"C:\\Users\\hp\\Desktop\\manju_project\\Brain_tumor\\train\\Benign\")\n",
    "imgarray=numpy.array(img)\n",
    "for row in imgarray:\n",
    "    outputstring=\"\"\n",
    "    for column in row:\n",
    "        valuestring=\"\"\n",
    "   \t    for value in column:\n",
    "            if value < 10:\n",
    "                valuestring+=\"00\"+str(value)\n",
    "            elif value < 100:\n",
    "                valuestring+=\"0\"+str(value)\n",
    "            else:\n",
    "                valuestring+=str(value)\n",
    "                outputstring+=valuestring+\";\"\n",
    "    print(outputstring[:-1]) "
   ]
  },
  {
   "cell_type": "code",
   "execution_count": null,
   "metadata": {},
   "outputs": [],
   "source": []
  },
  {
   "cell_type": "code",
   "execution_count": null,
   "metadata": {},
   "outputs": [],
   "source": []
  },
  {
   "cell_type": "code",
   "execution_count": null,
   "metadata": {},
   "outputs": [],
   "source": []
  },
  {
   "cell_type": "code",
   "execution_count": null,
   "metadata": {},
   "outputs": [],
   "source": []
  },
  {
   "cell_type": "code",
   "execution_count": null,
   "metadata": {},
   "outputs": [],
   "source": []
  }
 ],
 "metadata": {
  "kernelspec": {
   "display_name": "Python 3",
   "language": "python",
   "name": "python3"
  },
  "language_info": {
   "codemirror_mode": {
    "name": "ipython",
    "version": 3
   },
   "file_extension": ".py",
   "mimetype": "text/x-python",
   "name": "python",
   "nbconvert_exporter": "python",
   "pygments_lexer": "ipython3",
   "version": "3.6.4"
  }
 },
 "nbformat": 4,
 "nbformat_minor": 2
}
