{
 "cells": [
  {
   "cell_type": "code",
   "execution_count": 1,
   "metadata": {},
   "outputs": [
    {
     "ename": "ModuleNotFoundError",
     "evalue": "No module named 'tensorflow'",
     "output_type": "error",
     "traceback": [
      "\u001b[1;31m---------------------------------------------------------------------------\u001b[0m",
      "\u001b[1;31mModuleNotFoundError\u001b[0m                       Traceback (most recent call last)",
      "\u001b[1;32m<ipython-input-1-ab85b94677c4>\u001b[0m in \u001b[0;36m<module>\u001b[1;34m()\u001b[0m\n\u001b[1;32m----> 1\u001b[1;33m \u001b[1;32mimport\u001b[0m \u001b[0mtensorflow\u001b[0m \u001b[1;32mas\u001b[0m \u001b[0mtf\u001b[0m\u001b[1;33m\u001b[0m\u001b[0m\n\u001b[0m\u001b[0;32m      2\u001b[0m \u001b[1;32mimport\u001b[0m \u001b[0mkeras\u001b[0m\u001b[1;33m\u001b[0m\u001b[0m\n\u001b[0;32m      3\u001b[0m \u001b[1;32mfrom\u001b[0m \u001b[0mkeras\u001b[0m\u001b[1;33m.\u001b[0m\u001b[0mmodels\u001b[0m \u001b[1;32mimport\u001b[0m \u001b[0mSequential\u001b[0m\u001b[1;33m\u001b[0m\u001b[0m\n\u001b[0;32m      4\u001b[0m \u001b[1;32mfrom\u001b[0m \u001b[0mkeras\u001b[0m\u001b[1;33m.\u001b[0m\u001b[0mlayers\u001b[0m \u001b[1;32mimport\u001b[0m \u001b[0mConv2D\u001b[0m\u001b[1;33m\u001b[0m\u001b[0m\n\u001b[0;32m      5\u001b[0m \u001b[1;32mfrom\u001b[0m \u001b[0mkeras\u001b[0m\u001b[1;33m.\u001b[0m\u001b[0mlayers\u001b[0m \u001b[1;32mimport\u001b[0m \u001b[0mMaxPooling2D\u001b[0m\u001b[1;33m\u001b[0m\u001b[0m\n",
      "\u001b[1;31mModuleNotFoundError\u001b[0m: No module named 'tensorflow'"
     ]
    }
   ],
   "source": [
    "import tensorflow as tf\n",
    "import keras\n",
    "from keras.models import Sequential\n",
    "from keras.layers import Conv2D\n",
    "from keras.layers import MaxPooling2D\n",
    "from keras.layers import Flatten\n",
    "from keras.layers import Dense"
   ]
  },
  {
   "cell_type": "code",
   "execution_count": 2,
   "metadata": {},
   "outputs": [],
   "source": [
    "classifier = Sequential()\n",
    "\n",
    "classifier.add(Conv2D(32, (3, 3), input_shape = (64, 64, 3), activation = 'relu'))"
   ]
  },
  {
   "cell_type": "code",
   "execution_count": 3,
   "metadata": {},
   "outputs": [
    {
     "name": "stdout",
     "output_type": "stream",
     "text": [
      "_________________________________________________________________\n",
      "Layer (type)                 Output Shape              Param #   \n",
      "=================================================================\n",
      "conv2d_1 (Conv2D)            (None, 62, 62, 32)        896       \n",
      "_________________________________________________________________\n",
      "max_pooling2d_1 (MaxPooling2 (None, 31, 31, 32)        0         \n",
      "_________________________________________________________________\n",
      "conv2d_2 (Conv2D)            (None, 29, 29, 32)        9248      \n",
      "_________________________________________________________________\n",
      "max_pooling2d_2 (MaxPooling2 (None, 14, 14, 32)        0         \n",
      "_________________________________________________________________\n",
      "flatten_1 (Flatten)          (None, 6272)              0         \n",
      "_________________________________________________________________\n",
      "dense_1 (Dense)              (None, 128)               802944    \n",
      "_________________________________________________________________\n",
      "dense_2 (Dense)              (None, 1)                 129       \n",
      "=================================================================\n",
      "Total params: 813,217\n",
      "Trainable params: 813,217\n",
      "Non-trainable params: 0\n",
      "_________________________________________________________________\n"
     ]
    }
   ],
   "source": [
    "classifier.add(MaxPooling2D(pool_size = (2, 2)))\n",
    "\n",
    "classifier.add(Conv2D(32, (3, 3), activation = 'relu'))\n",
    "classifier.add(MaxPooling2D(pool_size = (2, 2)))\n",
    "\n",
    "classifier.add(Flatten())\n",
    "\n",
    "classifier.add(Dense(activation = 'relu',units=128))\n",
    "classifier.add(Dense(activation = 'sigmoid',units=1))\n",
    "\n",
    "classifier.compile(optimizer = 'adam', loss = 'binary_crossentropy', metrics = ['accuracy'])\n",
    "\n",
    "classifier.summary()"
   ]
  },
  {
   "cell_type": "code",
   "execution_count": 4,
   "metadata": {},
   "outputs": [],
   "source": [
    "from keras.preprocessing.image import ImageDataGenerator\n",
    "\n",
    "train_datagen = ImageDataGenerator(rescale = 1./255,\n",
    "                                   shear_range = 0.2,\n",
    "                                   zoom_range = 0.2,\n",
    "                                   horizontal_flip = True)\n",
    "\n",
    "test_datagen = ImageDataGenerator(rescale = 1./255)\n"
   ]
  },
  {
   "cell_type": "code",
   "execution_count": 5,
   "metadata": {},
   "outputs": [
    {
     "name": "stdout",
     "output_type": "stream",
     "text": [
      "C:\\Users\\hp\\Desktop\\btd1_project\\Brain_tumor\n"
     ]
    }
   ],
   "source": [
    "import os \n",
    "os.getcwd()\n",
    "os.chdir('C:/Users/hp/Desktop/btd1_project/Brain_tumor')\n",
    "print(os.getcwd())"
   ]
  },
  {
   "cell_type": "code",
   "execution_count": 6,
   "metadata": {},
   "outputs": [
    {
     "name": "stdout",
     "output_type": "stream",
     "text": [
      "Found 22 images belonging to 2 classes.\n",
      "Found 7 images belonging to 2 classes.\n"
     ]
    }
   ],
   "source": [
    "training_set = train_datagen.flow_from_directory('C:/Users/hp/Desktop/btd1_project/Brain_tumor/train/',\n",
    "                                                 target_size = (64, 64),\n",
    "                                                 batch_size = 32,\n",
    "                                                 class_mode = 'binary')\n",
    "\n",
    "test_set = test_datagen.flow_from_directory('C:/Users/hp/Desktop/btd1_project/Brain_tumor/test/',\n",
    "                                            target_size = (64, 64),\n",
    "                                            batch_size = 32,\n",
    "                                            class_mode = 'binary')\n"
   ]
  },
  {
   "cell_type": "code",
   "execution_count": 7,
   "metadata": {},
   "outputs": [
    {
     "name": "stdout",
     "output_type": "stream",
     "text": [
      "Epoch 1/100\n",
      "1/1 [==============================] - 2s 2s/step - loss: 0.6987 - acc: 0.4545 - val_loss: 0.8402 - val_acc: 0.5714\n",
      "Epoch 2/100\n",
      "1/1 [==============================] - 0s 272ms/step - loss: 0.9168 - acc: 0.5909 - val_loss: 0.6657 - val_acc: 0.5714\n",
      "Epoch 3/100\n",
      "1/1 [==============================] - 0s 342ms/step - loss: 0.6563 - acc: 0.5909 - val_loss: 0.7537 - val_acc: 0.4286\n",
      "Epoch 4/100\n",
      "1/1 [==============================] - 0s 303ms/step - loss: 0.6964 - acc: 0.4091 - val_loss: 0.7674 - val_acc: 0.4286\n",
      "Epoch 5/100\n",
      "1/1 [==============================] - 0s 374ms/step - loss: 0.6884 - acc: 0.4091 - val_loss: 0.7427 - val_acc: 0.4286\n",
      "Epoch 6/100\n",
      "1/1 [==============================] - 0s 312ms/step - loss: 0.6684 - acc: 0.5909 - val_loss: 0.7156 - val_acc: 0.4286\n",
      "Epoch 7/100\n",
      "1/1 [==============================] - 0s 389ms/step - loss: 0.6382 - acc: 0.8182 - val_loss: 0.6930 - val_acc: 0.4286\n",
      "Epoch 8/100\n",
      "1/1 [==============================] - 0s 327ms/step - loss: 0.6294 - acc: 0.7273 - val_loss: 0.6802 - val_acc: 0.7143\n",
      "Epoch 9/100\n",
      "1/1 [==============================] - 0s 334ms/step - loss: 0.6530 - acc: 0.5909 - val_loss: 0.6763 - val_acc: 0.5714\n",
      "Epoch 10/100\n",
      "1/1 [==============================] - 0s 318ms/step - loss: 0.6421 - acc: 0.5909 - val_loss: 0.6772 - val_acc: 0.5714\n",
      "Epoch 11/100\n",
      "1/1 [==============================] - 0s 310ms/step - loss: 0.6126 - acc: 0.5909 - val_loss: 0.6828 - val_acc: 0.5714\n",
      "Epoch 12/100\n",
      "1/1 [==============================] - 0s 309ms/step - loss: 0.6050 - acc: 0.5909 - val_loss: 0.6959 - val_acc: 0.4286\n",
      "Epoch 13/100\n",
      "1/1 [==============================] - 0s 312ms/step - loss: 0.6035 - acc: 0.6818 - val_loss: 0.7191 - val_acc: 0.5714\n",
      "Epoch 14/100\n",
      "1/1 [==============================] - 0s 346ms/step - loss: 0.5848 - acc: 0.7273 - val_loss: 0.7478 - val_acc: 0.4286\n",
      "Epoch 15/100\n",
      "1/1 [==============================] - 0s 378ms/step - loss: 0.5882 - acc: 0.7273 - val_loss: 0.7745 - val_acc: 0.4286\n",
      "Epoch 16/100\n",
      "1/1 [==============================] - 0s 319ms/step - loss: 0.5562 - acc: 0.8182 - val_loss: 0.7985 - val_acc: 0.4286\n",
      "Epoch 17/100\n",
      "1/1 [==============================] - 0s 377ms/step - loss: 0.6069 - acc: 0.6364 - val_loss: 0.7962 - val_acc: 0.5714\n",
      "Epoch 18/100\n",
      "1/1 [==============================] - 0s 397ms/step - loss: 0.5344 - acc: 0.8636 - val_loss: 0.8005 - val_acc: 0.5714\n",
      "Epoch 19/100\n",
      "1/1 [==============================] - 0s 392ms/step - loss: 0.5335 - acc: 0.7727 - val_loss: 0.8174 - val_acc: 0.5714\n",
      "Epoch 20/100\n",
      "1/1 [==============================] - 0s 345ms/step - loss: 0.5326 - acc: 0.7727 - val_loss: 0.8500 - val_acc: 0.5714\n",
      "Epoch 21/100\n",
      "1/1 [==============================] - 0s 359ms/step - loss: 0.5267 - acc: 0.7727 - val_loss: 0.8969 - val_acc: 0.5714\n",
      "Epoch 22/100\n",
      "1/1 [==============================] - 0s 291ms/step - loss: 0.4605 - acc: 0.8182 - val_loss: 0.9873 - val_acc: 0.4286\n",
      "Epoch 23/100\n",
      "1/1 [==============================] - 0s 372ms/step - loss: 0.4864 - acc: 0.7273 - val_loss: 1.0765 - val_acc: 0.4286\n",
      "Epoch 24/100\n",
      "1/1 [==============================] - 0s 329ms/step - loss: 0.4964 - acc: 0.8182 - val_loss: 1.1636 - val_acc: 0.4286\n",
      "Epoch 25/100\n",
      "1/1 [==============================] - 0s 297ms/step - loss: 0.4719 - acc: 0.7273 - val_loss: 1.2154 - val_acc: 0.4286\n",
      "Epoch 26/100\n",
      "1/1 [==============================] - 0s 362ms/step - loss: 0.4704 - acc: 0.7273 - val_loss: 1.1695 - val_acc: 0.5714\n",
      "Epoch 27/100\n",
      "1/1 [==============================] - 0s 292ms/step - loss: 0.3999 - acc: 0.7727 - val_loss: 1.1590 - val_acc: 0.5714\n",
      "Epoch 28/100\n",
      "1/1 [==============================] - 0s 367ms/step - loss: 0.3918 - acc: 0.8636 - val_loss: 1.1992 - val_acc: 0.5714\n",
      "Epoch 29/100\n",
      "1/1 [==============================] - 0s 385ms/step - loss: 0.3703 - acc: 0.8182 - val_loss: 1.3162 - val_acc: 0.5714\n",
      "Epoch 30/100\n",
      "1/1 [==============================] - 0s 304ms/step - loss: 0.3180 - acc: 0.8636 - val_loss: 1.4996 - val_acc: 0.4286\n",
      "Epoch 31/100\n",
      "1/1 [==============================] - 0s 402ms/step - loss: 0.3245 - acc: 0.9091 - val_loss: 1.6006 - val_acc: 0.4286\n",
      "Epoch 32/100\n",
      "1/1 [==============================] - 0s 299ms/step - loss: 0.3280 - acc: 0.9545 - val_loss: 1.5720 - val_acc: 0.5714\n",
      "Epoch 33/100\n",
      "1/1 [==============================] - 0s 392ms/step - loss: 0.3151 - acc: 0.8182 - val_loss: 1.5847 - val_acc: 0.5714\n",
      "Epoch 34/100\n",
      "1/1 [==============================] - 0s 290ms/step - loss: 0.3646 - acc: 0.9091 - val_loss: 1.6122 - val_acc: 0.5714\n",
      "Epoch 35/100\n",
      "1/1 [==============================] - 0s 393ms/step - loss: 0.4184 - acc: 0.8182 - val_loss: 1.7085 - val_acc: 0.5714\n",
      "Epoch 36/100\n",
      "1/1 [==============================] - 0s 332ms/step - loss: 0.3008 - acc: 0.9545 - val_loss: 1.7902 - val_acc: 0.4286\n",
      "Epoch 37/100\n",
      "1/1 [==============================] - 0s 391ms/step - loss: 0.2864 - acc: 0.9091 - val_loss: 1.9158 - val_acc: 0.4286\n",
      "Epoch 38/100\n",
      "1/1 [==============================] - 0s 314ms/step - loss: 0.3974 - acc: 0.7727 - val_loss: 1.7546 - val_acc: 0.4286\n",
      "Epoch 39/100\n",
      "1/1 [==============================] - 0s 392ms/step - loss: 0.2932 - acc: 0.8636 - val_loss: 1.6229 - val_acc: 0.5714\n",
      "Epoch 40/100\n",
      "1/1 [==============================] - 0s 400ms/step - loss: 0.3202 - acc: 0.8636 - val_loss: 1.5343 - val_acc: 0.5714\n",
      "Epoch 41/100\n",
      "1/1 [==============================] - 0s 409ms/step - loss: 0.2608 - acc: 0.8636 - val_loss: 1.5519 - val_acc: 0.5714\n",
      "Epoch 42/100\n",
      "1/1 [==============================] - 0s 371ms/step - loss: 0.2122 - acc: 0.9545 - val_loss: 1.6147 - val_acc: 0.5714\n",
      "Epoch 43/100\n",
      "1/1 [==============================] - 0s 331ms/step - loss: 0.1848 - acc: 1.0000 - val_loss: 1.7164 - val_acc: 0.4286\n",
      "Epoch 44/100\n",
      "1/1 [==============================] - 0s 287ms/step - loss: 0.1742 - acc: 1.0000 - val_loss: 1.8200 - val_acc: 0.4286\n",
      "Epoch 45/100\n",
      "1/1 [==============================] - 0s 363ms/step - loss: 0.2914 - acc: 0.8636 - val_loss: 1.8105 - val_acc: 0.5714\n",
      "Epoch 46/100\n",
      "1/1 [==============================] - 0s 374ms/step - loss: 0.1928 - acc: 0.9091 - val_loss: 1.7989 - val_acc: 0.5714\n",
      "Epoch 47/100\n",
      "1/1 [==============================] - 0s 304ms/step - loss: 0.2118 - acc: 0.9545 - val_loss: 1.8286 - val_acc: 0.5714\n",
      "Epoch 48/100\n",
      "1/1 [==============================] - 0s 349ms/step - loss: 0.2093 - acc: 0.9545 - val_loss: 1.9826 - val_acc: 0.5714\n",
      "Epoch 49/100\n",
      "1/1 [==============================] - 0s 359ms/step - loss: 0.2247 - acc: 0.9091 - val_loss: 2.2220 - val_acc: 0.4286\n",
      "Epoch 50/100\n",
      "1/1 [==============================] - 0s 319ms/step - loss: 0.1890 - acc: 0.9545 - val_loss: 2.3058 - val_acc: 0.4286\n",
      "Epoch 51/100\n",
      "1/1 [==============================] - 0s 410ms/step - loss: 0.1957 - acc: 0.9091 - val_loss: 2.1970 - val_acc: 0.4286\n",
      "Epoch 52/100\n",
      "1/1 [==============================] - 0s 307ms/step - loss: 0.2055 - acc: 0.9545 - val_loss: 2.0396 - val_acc: 0.4286\n",
      "Epoch 53/100\n",
      "1/1 [==============================] - 0s 385ms/step - loss: 0.1680 - acc: 0.9091 - val_loss: 1.9787 - val_acc: 0.5714\n",
      "Epoch 54/100\n",
      "1/1 [==============================] - 0s 331ms/step - loss: 0.1328 - acc: 0.9545 - val_loss: 1.9305 - val_acc: 0.5714\n",
      "Epoch 55/100\n",
      "1/1 [==============================] - 0s 324ms/step - loss: 0.2263 - acc: 0.9545 - val_loss: 2.0227 - val_acc: 0.4286\n",
      "Epoch 56/100\n",
      "1/1 [==============================] - 0s 392ms/step - loss: 0.1722 - acc: 0.9545 - val_loss: 2.0996 - val_acc: 0.4286\n",
      "Epoch 57/100\n",
      "1/1 [==============================] - 0s 276ms/step - loss: 0.2111 - acc: 0.9091 - val_loss: 2.1356 - val_acc: 0.4286\n",
      "Epoch 58/100\n",
      "1/1 [==============================] - 0s 399ms/step - loss: 0.1363 - acc: 0.9545 - val_loss: 2.1922 - val_acc: 0.4286\n",
      "Epoch 59/100\n",
      "1/1 [==============================] - 0s 332ms/step - loss: 0.1599 - acc: 0.9545 - val_loss: 1.9560 - val_acc: 0.5714\n",
      "Epoch 60/100\n",
      "1/1 [==============================] - 0s 343ms/step - loss: 0.1725 - acc: 0.9545 - val_loss: 1.9359 - val_acc: 0.4286\n",
      "Epoch 61/100\n",
      "1/1 [==============================] - 0s 382ms/step - loss: 0.1573 - acc: 0.9091 - val_loss: 1.9002 - val_acc: 0.2857\n",
      "Epoch 62/100\n",
      "1/1 [==============================] - 0s 356ms/step - loss: 0.2342 - acc: 0.9091 - val_loss: 2.0046 - val_acc: 0.5714\n",
      "Epoch 63/100\n",
      "1/1 [==============================] - 0s 370ms/step - loss: 0.1166 - acc: 0.9545 - val_loss: 2.3661 - val_acc: 0.4286\n"
     ]
    },
    {
     "name": "stdout",
     "output_type": "stream",
     "text": [
      "Epoch 64/100\n",
      "1/1 [==============================] - 0s 391ms/step - loss: 0.1884 - acc: 0.9545 - val_loss: 2.5445 - val_acc: 0.4286\n",
      "Epoch 65/100\n",
      "1/1 [==============================] - 0s 368ms/step - loss: 0.2947 - acc: 0.8636 - val_loss: 2.2905 - val_acc: 0.5714\n",
      "Epoch 66/100\n",
      "1/1 [==============================] - 0s 293ms/step - loss: 0.2176 - acc: 0.9091 - val_loss: 2.0249 - val_acc: 0.5714\n",
      "Epoch 67/100\n",
      "1/1 [==============================] - 0s 370ms/step - loss: 0.0867 - acc: 0.9545 - val_loss: 1.9003 - val_acc: 0.5714\n",
      "Epoch 68/100\n",
      "1/1 [==============================] - 0s 283ms/step - loss: 0.1056 - acc: 1.0000 - val_loss: 1.8955 - val_acc: 0.4286\n",
      "Epoch 69/100\n",
      "1/1 [==============================] - 0s 360ms/step - loss: 0.1176 - acc: 0.9545 - val_loss: 1.9371 - val_acc: 0.5714\n",
      "Epoch 70/100\n",
      "1/1 [==============================] - 0s 268ms/step - loss: 0.1076 - acc: 1.0000 - val_loss: 2.0541 - val_acc: 0.5714\n",
      "Epoch 71/100\n",
      "1/1 [==============================] - 0s 397ms/step - loss: 0.1369 - acc: 0.9091 - val_loss: 2.2479 - val_acc: 0.4286\n",
      "Epoch 72/100\n",
      "1/1 [==============================] - 0s 331ms/step - loss: 0.1256 - acc: 0.9545 - val_loss: 2.3372 - val_acc: 0.4286\n",
      "Epoch 73/100\n",
      "1/1 [==============================] - 0s 374ms/step - loss: 0.0790 - acc: 0.9545 - val_loss: 2.3529 - val_acc: 0.4286\n",
      "Epoch 74/100\n",
      "1/1 [==============================] - 0s 332ms/step - loss: 0.1631 - acc: 0.9545 - val_loss: 2.3400 - val_acc: 0.4286\n",
      "Epoch 75/100\n",
      "1/1 [==============================] - 0s 356ms/step - loss: 0.0390 - acc: 1.0000 - val_loss: 2.3286 - val_acc: 0.5714\n",
      "Epoch 76/100\n",
      "1/1 [==============================] - 0s 293ms/step - loss: 0.1272 - acc: 0.9091 - val_loss: 2.3547 - val_acc: 0.5714\n",
      "Epoch 77/100\n",
      "1/1 [==============================] - 0s 410ms/step - loss: 0.1317 - acc: 0.9091 - val_loss: 2.4321 - val_acc: 0.4286\n",
      "Epoch 78/100\n",
      "1/1 [==============================] - 0s 323ms/step - loss: 0.0771 - acc: 1.0000 - val_loss: 2.5071 - val_acc: 0.4286\n",
      "Epoch 79/100\n",
      "1/1 [==============================] - 0s 388ms/step - loss: 0.1095 - acc: 0.9545 - val_loss: 2.5413 - val_acc: 0.4286\n",
      "Epoch 80/100\n",
      "1/1 [==============================] - 0s 330ms/step - loss: 0.0705 - acc: 1.0000 - val_loss: 2.6046 - val_acc: 0.4286\n",
      "Epoch 81/100\n",
      "1/1 [==============================] - 0s 395ms/step - loss: 0.0715 - acc: 1.0000 - val_loss: 2.6227 - val_acc: 0.4286\n",
      "Epoch 82/100\n",
      "1/1 [==============================] - 0s 320ms/step - loss: 0.1007 - acc: 0.9545 - val_loss: 2.5803 - val_acc: 0.5714\n",
      "Epoch 83/100\n",
      "1/1 [==============================] - 0s 366ms/step - loss: 0.1150 - acc: 0.9091 - val_loss: 2.5734 - val_acc: 0.5714\n",
      "Epoch 84/100\n",
      "1/1 [==============================] - 0s 322ms/step - loss: 0.0903 - acc: 0.9545 - val_loss: 2.6402 - val_acc: 0.5714\n",
      "Epoch 85/100\n",
      "1/1 [==============================] - 0s 455ms/step - loss: 0.0625 - acc: 0.9545 - val_loss: 2.7042 - val_acc: 0.5714\n",
      "Epoch 86/100\n",
      "1/1 [==============================] - 0s 328ms/step - loss: 0.1126 - acc: 0.9545 - val_loss: 2.8603 - val_acc: 0.5714\n",
      "Epoch 87/100\n",
      "1/1 [==============================] - 0s 445ms/step - loss: 0.1023 - acc: 0.9091 - val_loss: 3.0191 - val_acc: 0.5714\n",
      "Epoch 88/100\n",
      "1/1 [==============================] - 0s 384ms/step - loss: 0.0825 - acc: 0.9545 - val_loss: 3.1127 - val_acc: 0.4286\n",
      "Epoch 89/100\n",
      "1/1 [==============================] - 0s 352ms/step - loss: 0.0432 - acc: 1.0000 - val_loss: 3.2291 - val_acc: 0.4286\n",
      "Epoch 90/100\n",
      "1/1 [==============================] - 0s 328ms/step - loss: 0.0937 - acc: 0.9545 - val_loss: 3.3115 - val_acc: 0.4286\n",
      "Epoch 91/100\n",
      "1/1 [==============================] - 0s 331ms/step - loss: 0.0961 - acc: 0.9545 - val_loss: 3.3956 - val_acc: 0.4286\n",
      "Epoch 92/100\n",
      "1/1 [==============================] - 0s 308ms/step - loss: 0.0174 - acc: 1.0000 - val_loss: 3.4855 - val_acc: 0.4286\n",
      "Epoch 93/100\n",
      "1/1 [==============================] - 0s 346ms/step - loss: 0.0830 - acc: 0.9545 - val_loss: 3.4087 - val_acc: 0.4286\n",
      "Epoch 94/100\n",
      "1/1 [==============================] - 0s 357ms/step - loss: 0.1408 - acc: 0.9091 - val_loss: 3.3106 - val_acc: 0.5714\n",
      "Epoch 95/100\n",
      "1/1 [==============================] - 0s 338ms/step - loss: 0.0317 - acc: 1.0000 - val_loss: 3.2897 - val_acc: 0.5714\n",
      "Epoch 96/100\n",
      "1/1 [==============================] - 0s 352ms/step - loss: 0.0547 - acc: 1.0000 - val_loss: 3.3740 - val_acc: 0.5714\n",
      "Epoch 97/100\n",
      "1/1 [==============================] - 0s 350ms/step - loss: 0.0444 - acc: 1.0000 - val_loss: 3.4665 - val_acc: 0.5714\n",
      "Epoch 98/100\n",
      "1/1 [==============================] - 0s 384ms/step - loss: 0.0172 - acc: 1.0000 - val_loss: 3.5848 - val_acc: 0.5714\n",
      "Epoch 99/100\n",
      "1/1 [==============================] - 0s 335ms/step - loss: 0.0792 - acc: 0.9545 - val_loss: 3.7474 - val_acc: 0.4286\n",
      "Epoch 100/100\n",
      "1/1 [==============================] - 0s 375ms/step - loss: 0.1660 - acc: 0.9091 - val_loss: 3.7972 - val_acc: 0.4286\n"
     ]
    },
    {
     "data": {
      "text/plain": [
       "<keras.callbacks.History at 0x15746d5af98>"
      ]
     },
     "execution_count": 7,
     "metadata": {},
     "output_type": "execute_result"
    }
   ],
   "source": [
    "classifier.fit_generator(training_set, steps_per_epoch=None, epochs=100, verbose=1, callbacks=None, validation_data=test_set, validation_steps=None, class_weight=None, max_queue_size=10, workers=1, use_multiprocessing=False, shuffle=True, initial_epoch=0)\n",
    "     "
   ]
  },
  {
   "cell_type": "code",
   "execution_count": 8,
   "metadata": {},
   "outputs": [
    {
     "data": {
      "image/png": "[encoded data removed]",
      "text/plain": [
       "<PIL.Image.Image image mode=RGB size=64x64 at 0x157473CF048>"
      ]
     },
     "execution_count": 8,
     "metadata": {},
     "output_type": "execute_result"
    }
   ],
   "source": [
    "import numpy as np\n",
    "from keras.preprocessing import image\n",
    "test_image = image.load_img('C:/Users/hp/Desktop/btd1_project/TestImages/f3cdd4e71aaab8707bd4639e98b9bc.jpg', target_size = (64, 64))\n",
    "test_image"
   ]
  },
  {
   "cell_type": "code",
   "execution_count": 9,
   "metadata": {},
   "outputs": [
    {
     "data": {
      "text/plain": [
       "array([[[[1., 1., 1.],\n",
       "         [1., 1., 1.],\n",
       "         [1., 1., 1.],\n",
       "         ...,\n",
       "         [1., 1., 1.],\n",
       "         [1., 1., 1.],\n",
       "         [1., 1., 1.]],\n",
       "\n",
       "        [[2., 2., 2.],\n",
       "         [1., 1., 1.],\n",
       "         [1., 1., 1.],\n",
       "         ...,\n",
       "         [1., 1., 1.],\n",
       "         [1., 1., 1.],\n",
       "         [1., 1., 1.]],\n",
       "\n",
       "        [[1., 1., 1.],\n",
       "         [1., 1., 1.],\n",
       "         [1., 1., 1.],\n",
       "         ...,\n",
       "         [1., 1., 1.],\n",
       "         [1., 1., 1.],\n",
       "         [1., 1., 1.]],\n",
       "\n",
       "        ...,\n",
       "\n",
       "        [[1., 1., 1.],\n",
       "         [1., 1., 1.],\n",
       "         [1., 1., 1.],\n",
       "         ...,\n",
       "         [1., 1., 1.],\n",
       "         [1., 1., 1.],\n",
       "         [1., 1., 1.]],\n",
       "\n",
       "        [[4., 4., 4.],\n",
       "         [1., 1., 1.],\n",
       "         [0., 0., 0.],\n",
       "         ...,\n",
       "         [1., 1., 1.],\n",
       "         [1., 1., 1.],\n",
       "         [1., 1., 1.]],\n",
       "\n",
       "        [[1., 1., 1.],\n",
       "         [1., 1., 1.],\n",
       "         [1., 1., 1.],\n",
       "         ...,\n",
       "         [1., 1., 1.],\n",
       "         [1., 1., 1.],\n",
       "         [1., 1., 1.]]]], dtype=float32)"
      ]
     },
     "execution_count": 9,
     "metadata": {},
     "output_type": "execute_result"
    }
   ],
   "source": [
    "test_image = image.img_to_array(test_image)\n",
    "\n",
    "test_image = np.expand_dims(test_image, axis = 0)\n",
    "test_image"
   ]
  },
  {
   "cell_type": "code",
   "execution_count": 10,
   "metadata": {},
   "outputs": [
    {
     "data": {
      "text/plain": [
       "array([[0.]], dtype=float32)"
      ]
     },
     "execution_count": 10,
     "metadata": {},
     "output_type": "execute_result"
    }
   ],
   "source": [
    "result = classifier.predict(test_image)\n",
    "result"
   ]
  },
  {
   "cell_type": "code",
   "execution_count": 11,
   "metadata": {},
   "outputs": [
    {
     "data": {
      "text/plain": [
       "{'Benign': 0, 'Malignant': 1}"
      ]
     },
     "execution_count": 11,
     "metadata": {},
     "output_type": "execute_result"
    }
   ],
   "source": [
    "training_set.class_indices"
   ]
  },
  {
   "cell_type": "code",
   "execution_count": 12,
   "metadata": {},
   "outputs": [
    {
     "name": "stdout",
     "output_type": "stream",
     "text": [
      "Detected tumor type is Benign\n"
     ]
    }
   ],
   "source": [
    "if result[0][0] == 0:\n",
    "    prediction = 'Benign'\n",
    "else:\n",
    "    prediction = 'Malignent'\n",
    "print(\"Detected tumor type is %s\"%prediction)\n"
   ]
  },
  {
   "cell_type": "code",
   "execution_count": null,
   "metadata": {},
   "outputs": [],
   "source": []
  },
  {
   "cell_type": "code",
   "execution_count": null,
   "metadata": {},
   "outputs": [],
   "source": []
  },
  {
   "cell_type": "code",
   "execution_count": null,
   "metadata": {},
   "outputs": [],
   "source": []
  },
  {
   "cell_type": "code",
   "execution_count": null,
   "metadata": {},
   "outputs": [],
   "source": []
  },
  {
   "cell_type": "code",
   "execution_count": null,
   "metadata": {},
   "outputs": [],
   "source": []
  }
 ],
 "metadata": {
  "kernelspec": {
   "display_name": "Python 3",
   "language": "python",
   "name": "python3"
  },
  "language_info": {
   "codemirror_mode": {
    "name": "ipython",
    "version": 3
   },
   "file_extension": ".py",
   "mimetype": "text/x-python",
   "name": "python",
   "nbconvert_exporter": "python",
   "pygments_lexer": "ipython3",
   "version": "3.6.4"
  }
 },
 "nbformat": 4,
 "nbformat_minor": 2
}
